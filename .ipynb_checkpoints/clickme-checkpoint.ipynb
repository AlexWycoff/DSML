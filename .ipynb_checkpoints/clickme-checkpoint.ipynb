{
 "cells": [
  {
   "cell_type": "code",
   "execution_count": 1,
   "id": "7f778379-c19b-48a0-8afb-0122bbebe89d",
   "metadata": {},
   "outputs": [
    {
     "name": "stdout",
     "output_type": "stream",
     "text": [
      "hello this is an expert programmer\n"
     ]
    }
   ],
   "source": [
    "print (\"hello this is an expert programmer (aka Indian scammer)\")"
   ]
  },
  {
   "cell_type": "code",
   "execution_count": 3,
   "id": "df65d074-69ee-463e-99ed-a0d9890bc714",
   "metadata": {},
   "outputs": [
    {
     "data": {
      "text/html": [
       "\n",
       "<a href=\"https://www.youtube.com/watch?v=dQw4w9WgXcQ\" target=\"_blank\">\n",
       "    <button style=\"padding: 10px 20px; font-size: 16px; cursor: pointer;\">\n",
       "        CLICK ME\n",
       "\n",
       "    </button>\n",
       "</a>\n"
      ],
      "text/plain": [
       "<IPython.core.display.HTML object>"
      ]
     },
     "metadata": {},
     "output_type": "display_data"
    }
   ],
   "source": [
    "from IPython.display import display, HTML\n",
    "\n",
    "youtube_link = \"https://www.youtube.com/watch?v=dQw4w9WgXcQ\"\n",
    "\n",
    "button_html = f\"\"\"\n",
    "<a href=\"{youtube_link}\" target=\"_blank\">\n",
    "    <button style=\"padding: 10px 20px; font-size: 16px; cursor: pointer;\">\n",
    "        CLICK ME PLS \n",
    "\n",
    "    </button>\n",
    "</a>\n",
    "\"\"\"\n",
    "\n",
    "display(HTML(button_html))\n"
   ]
  },
  {
   "cell_type": "code",
   "execution_count": null,
   "id": "3695efb5-4cbe-4efa-ad65-3b2dec3d9814",
   "metadata": {},
   "outputs": [],
   "source": []
  }
 ],
 "metadata": {
  "kernelspec": {
   "display_name": "Python 3 (ipykernel)",
   "language": "python",
   "name": "python3"
  },
  "language_info": {
   "codemirror_mode": {
    "name": "ipython",
    "version": 3
   },
   "file_extension": ".py",
   "mimetype": "text/x-python",
   "name": "python",
   "nbconvert_exporter": "python",
   "pygments_lexer": "ipython3",
   "version": "3.11.0"
  }
 },
 "nbformat": 4,
 "nbformat_minor": 5
}
