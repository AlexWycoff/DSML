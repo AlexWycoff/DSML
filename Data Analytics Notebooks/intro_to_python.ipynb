{
 "cells": [
  {
   "cell_type": "markdown",
   "id": "2f9e2ee5",
   "metadata": {},
   "source": [
    "## Introduction to Python"
   ]
  },
  {
   "cell_type": "markdown",
   "id": "23943e8e",
   "metadata": {},
   "source": [
    "This is a guide on how to use python that Aaron wrote. Keep in mind this is very basic and is only intended as a starting point for those who may be unintiated in the ways of python and is in no way a comprehensive manual on all aspects of python."
   ]
  },
  {
   "cell_type": "code",
   "execution_count": 5,
   "id": "3e8901b4",
   "metadata": {},
   "outputs": [
    {
     "name": "stdout",
     "output_type": "stream",
     "text": [
      "Hello everyone!\n"
     ]
    }
   ],
   "source": [
    "print('Hello everyone!')"
   ]
  },
  {
   "cell_type": "code",
   "execution_count": 6,
   "id": "5e43cd31-8561-4221-9390-d246aeab1ee0",
   "metadata": {},
   "outputs": [],
   "source": [
    "# Python is an interpreted language meaning there are no compile-time object types\n",
    "# This means Python doesn't use typing when declaring a variable\n",
    "number = 354\n",
    "string = \"hi\""
   ]
  },
  {
   "cell_type": "code",
   "execution_count": 12,
   "id": "c143b0a4-7fa1-456e-9d7d-cd35c602754c",
   "metadata": {},
   "outputs": [
    {
     "name": "stdout",
     "output_type": "stream",
     "text": [
      "hi 354\n"
     ]
    }
   ],
   "source": [
    "#Print a variable is easy it is simply:\n",
    "print(string, number)"
   ]
  },
  {
   "cell_type": "markdown",
   "id": "15f5f97e-7c35-4471-9797-7a9191724161",
   "metadata": {},
   "source": [
    "Python uses quotes around strings, but otherwise you can print an object with print(), or by having it as the last line of a cell in notebooks"
   ]
  },
  {
   "cell_type": "code",
   "execution_count": 13,
   "id": "b33cc95a",
   "metadata": {},
   "outputs": [
    {
     "data": {
      "text/plain": [
       "'this is a string'"
      ]
     },
     "execution_count": 13,
     "metadata": {},
     "output_type": "execute_result"
    }
   ],
   "source": [
    "some_string = \"this is a string\"\n",
    "some_string"
   ]
  },
  {
   "cell_type": "code",
   "execution_count": 6,
   "id": "c9029890-8b89-4299-829f-1650c7bb7ad9",
   "metadata": {},
   "outputs": [],
   "source": [
    "# Some common data types:\n",
    "# strings\n",
    "a='DSMl'\n",
    "# ints\n",
    "b=65464\n",
    "# floats (doubles)\n",
    "c=5660.646464\n",
    "# lists (these are important)\n",
    "d=[\"Alex\", \"Aaron\", \"Ms. Grajkowske\"]\n",
    "# dictionaries\n",
    "e={\"name\": \"Aaron\", \"grade\": 12}\n",
    "# boolean\n",
    "f=True\n",
    "# You can also do type casting, which is sometimes helpful\n",
    "r=int(\"23\") #r is an integer here(15)\n",
    "t=str(15) #t is a string in this case(\"15\")\n",
    "# It is important to note that all varaibles are case sensitive meaning x is not X or a is not A"
   ]
  },
  {
   "cell_type": "code",
   "execution_count": 11,
   "id": "d171ea20-e50f-41db-b909-9a101415b22c",
   "metadata": {},
   "outputs": [
    {
     "name": "stdout",
     "output_type": "stream",
     "text": [
      "<class 'int'>\n",
      "<class 'str'>\n"
     ]
    }
   ],
   "source": [
    "# You can also use the type function to get the type of a variable\n",
    "print(type(r))\n",
    "print(type(t))\n",
    "# These types aren't strings, but a class object"
   ]
  },
  {
   "cell_type": "code",
   "execution_count": 15,
   "id": "0e53260b",
   "metadata": {},
   "outputs": [
    {
     "name": "stdout",
     "output_type": "stream",
     "text": [
      "23 and '15' have different types\n",
      "23 is an Integer\n"
     ]
    }
   ],
   "source": [
    "# If you want to compare the types of two objects:\n",
    "if type(r) != type(t):\n",
    "    print(f\"{r} and '{t}' have different types\")\n",
    "\n",
    "# And if you want to check if a variable is of a certain type\n",
    "if type(r) == type(int()):\n",
    "    print(f\"{r} is an Integer\")"
   ]
  },
  {
   "cell_type": "code",
   "execution_count": 16,
   "id": "1b15d95e-51bb-4b45-8128-58649af69e6d",
   "metadata": {},
   "outputs": [
    {
     "name": "stdout",
     "output_type": "stream",
     "text": [
      "Alexander\n",
      "x\n",
      "9\n",
      "ALEXANDER\n",
      "alexander\n",
      "Aaron\n",
      "False\n",
      "True\n"
     ]
    }
   ],
   "source": [
    "# Some fun string properties and functions\n",
    "u=\"Alexander\"\n",
    "# full string\n",
    "print(u)\n",
    "# 4th character of string\n",
    "print(u[3])\n",
    "# length of string\n",
    "print(len(u))\n",
    "# uppercase\n",
    "print(u.upper())\n",
    "# lowercase\n",
    "print(u.lower())\n",
    "# Replace one keyword with another\n",
    "print(u.replace(\"Alexander\",\"Aaron\"))\n",
    "# Check if a string is a number\n",
    "print(u.isnumeric())\n",
    "# Check if a string contains a substring\n",
    "print(\"Alexander\" in u)"
   ]
  },
  {
   "cell_type": "code",
   "execution_count": 17,
   "id": "ab508a3c-f2c2-4cad-8c71-a835fa0a38c5",
   "metadata": {},
   "outputs": [
    {
     "name": "stdout",
     "output_type": "stream",
     "text": [
      "1\n",
      "2\n",
      "3\n",
      "4\n",
      "5\n",
      "6\n",
      "7\n",
      "8\n",
      "9\n",
      "\n",
      "7\n",
      "6\n",
      "5\n",
      "4\n",
      "3\n",
      "2\n",
      "1\n"
     ]
    }
   ],
   "source": [
    "# There are two main types of loops For loops and While loops\n",
    "Aaron_list=[1,2,3,4,5,6,7,8,9]\n",
    "for item in Aaron_list:\n",
    "    print(item)\n",
    "\n",
    "print(\"\")\n",
    "for i in range(len(Aaron_list)-2, 0, -1):\n",
    "    print(i)"
   ]
  },
  {
   "cell_type": "markdown",
   "id": "cd34dd47-b731-47fc-b7ab-51c68af8bdaa",
   "metadata": {},
   "source": [
    "That was a for loop and this is now a demonstration of a while loop that counts down from 10 as long as there is numbers to count down from."
   ]
  },
  {
   "cell_type": "code",
   "execution_count": 23,
   "id": "a63d1b65-f383-4696-8962-e7e8216ebcff",
   "metadata": {},
   "outputs": [
    {
     "name": "stdout",
     "output_type": "stream",
     "text": [
      "10\n",
      "9\n",
      "8\n",
      "7\n",
      "6\n",
      "5\n",
      "4\n",
      "3\n",
      "2\n",
      "1\n"
     ]
    }
   ],
   "source": [
    "count=10\n",
    "while count>0:\n",
    "    print(count)\n",
    "    count-=1"
   ]
  },
  {
   "cell_type": "code",
   "execution_count": 22,
   "id": "14717ee7-9f20-4886-9c06-7f659e88f28e",
   "metadata": {},
   "outputs": [
    {
     "name": "stdout",
     "output_type": "stream",
     "text": [
      "20\n",
      "18\n",
      "16\n",
      "14\n",
      "12\n",
      "10\n",
      "8\n",
      "6\n",
      "4\n",
      "2\n"
     ]
    }
   ],
   "source": [
    "#If I want to count down by twos then I can easily do so\n",
    "count=20\n",
    "while count > 0:\n",
    "    print(count)\n",
    "    count -=2\n",
    "    "
   ]
  },
  {
   "cell_type": "markdown",
   "id": "16aa270c",
   "metadata": {},
   "source": [
    "Strings are like lists of characters. You can index and even loop through them"
   ]
  },
  {
   "cell_type": "code",
   "execution_count": 20,
   "id": "5fef61cd",
   "metadata": {},
   "outputs": [
    {
     "name": "stdout",
     "output_type": "stream",
     "text": [
      "A\n",
      "l\n",
      "e\n",
      "x\n",
      "a\n",
      "n\n",
      "d\n",
      "e\n",
      "r\n",
      "Alex\n"
     ]
    }
   ],
   "source": [
    "for char in u:\n",
    "    print(char)\n",
    "print(u[0:4])"
   ]
  },
  {
   "cell_type": "code",
   "execution_count": 24,
   "id": "84e7f238-02db-4943-82c2-c444abacc15c",
   "metadata": {},
   "outputs": [
    {
     "name": "stdout",
     "output_type": "stream",
     "text": [
      "You're an upperclassmen!\n"
     ]
    }
   ],
   "source": [
    "grade = 11\n",
    "if grade < 11:\n",
    "    print(\"You're an underclassmen.\")\n",
    "elif grade == 11:\n",
    "    print(\"You're an upperclassmen!\")\n",
    "else:\n",
    "    print(\"Are you sure you're in high school yet/still?\")"
   ]
  },
  {
   "cell_type": "code",
   "execution_count": 18,
   "id": "fc2e7ef6-9095-4582-8b16-f52c0c127d1d",
   "metadata": {},
   "outputs": [
    {
     "name": "stdout",
     "output_type": "stream",
     "text": [
      "Hello, Alexander!\n"
     ]
    }
   ],
   "source": [
    "# Defining a simple function\n",
    "def greet(name):\n",
    "    print(f\"Hello, {name}!\")\n",
    "\n",
    "# Calling the function\n",
    "greet(\"Alexander\")"
   ]
  },
  {
   "cell_type": "code",
   "execution_count": 27,
   "id": "07ad146e",
   "metadata": {},
   "outputs": [
    {
     "name": "stdout",
     "output_type": "stream",
     "text": [
      "8\n"
     ]
    }
   ],
   "source": [
    "# Function that adds two numbers and returns the result\n",
    "def add_numbers(a, b):\n",
    "    return a + b\n",
    "\n",
    "# Using the function\n",
    "result = add_numbers(3, 5)\n",
    "print(result)  # Output: 8"
   ]
  },
  {
   "cell_type": "code",
   "execution_count": 28,
   "id": "9e9ba24e",
   "metadata": {},
   "outputs": [
    {
     "name": "stdout",
     "output_type": "stream",
     "text": [
      "Hello, Alexander!\n",
      "Hello, Aaron!\n"
     ]
    }
   ],
   "source": [
    "# Function with a default parameter value\n",
    "def greet(name = \"Aaron\"):\n",
    "    print(f\"Hello, {name}!\")\n",
    "    \n",
    "# Calling with and without passing a parameter\n",
    "greet(\"Alexander\")  # Output: Hello, Alexander!\n",
    "greet()         # Output: Hello, Aaron!"
   ]
  },
  {
   "cell_type": "code",
   "execution_count": 29,
   "id": "a5d7994d",
   "metadata": {},
   "outputs": [
    {
     "name": "stdout",
     "output_type": "stream",
     "text": [
      "My name is Barnabus and I am 215 years old.\n"
     ]
    }
   ],
   "source": [
    "# Function that prints a personalized message\n",
    "def introduce(name, age):\n",
    "    print(f\"My name is {name} and I am {age} years old.\")\n",
    "\n",
    "# Calling the function with arguments\n",
    "introduce(\"Barnabus\", 215)"
   ]
  },
  {
   "cell_type": "code",
   "execution_count": null,
   "id": "7a3b7300",
   "metadata": {},
   "outputs": [],
   "source": []
  }
 ],
 "metadata": {
  "kernelspec": {
   "display_name": "Python 3 (ipykernel)",
   "language": "python",
   "name": "python3"
  },
  "language_info": {
   "codemirror_mode": {
    "name": "ipython",
    "version": 3
   },
   "file_extension": ".py",
   "mimetype": "text/x-python",
   "name": "python",
   "nbconvert_exporter": "python",
   "pygments_lexer": "ipython3",
   "version": "3.11.0"
  }
 },
 "nbformat": 4,
 "nbformat_minor": 5
}
